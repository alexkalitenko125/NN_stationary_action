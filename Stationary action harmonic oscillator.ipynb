{
 "cells": [
  {
   "cell_type": "code",
   "execution_count": 1,
   "id": "c1b4ab3f",
   "metadata": {},
   "outputs": [],
   "source": [
    "import torch \n",
    "import pandas as pd \n",
    "import torch.nn as nn \n",
    "from torch.utils.data import random_split, DataLoader, TensorDataset \n",
    "import torch.nn.functional as F \n",
    "import numpy as np \n",
    "import torch.optim as optim \n",
    "from torch.optim import AdamW\n",
    "import random\n",
    "import matplotlib.pyplot as plt\n",
    "import seaborn as sns\n",
    "\n",
    "import os    \n",
    "os.environ['KMP_DUPLICATE_LIB_OK'] = 'True'"
   ]
  },
  {
   "cell_type": "code",
   "execution_count": 2,
   "id": "78a9f4a8",
   "metadata": {},
   "outputs": [],
   "source": [
    "def set_random_seed(seed):\n",
    "    torch.manual_seed(seed)\n",
    "    torch.cuda.manual_seed(seed)\n",
    "    np.random.seed(seed)\n",
    "    random.seed(seed)\n",
    "    torch.backends.cudnn.deterministic = True"
   ]
  },
  {
   "cell_type": "code",
   "execution_count": 3,
   "id": "b4ed66fa",
   "metadata": {},
   "outputs": [
    {
     "data": {
      "text/plain": [
       "tensor([[ 1.1468,  1.2450],\n",
       "        [-0.3514,  1.3779],\n",
       "        [-0.3287,  0.3027],\n",
       "        ...,\n",
       "        [-1.4233, -0.7696],\n",
       "        [-0.7177,  0.8503],\n",
       "        [-0.9676, -0.1411]])"
      ]
     },
     "execution_count": 3,
     "metadata": {},
     "output_type": "execute_result"
    }
   ],
   "source": [
    "set_random_seed(42)\n",
    "\n",
    "X = 3*(torch.rand(1000, 2)-0.5)\n",
    "\n",
    "X"
   ]
  },
  {
   "cell_type": "code",
   "execution_count": 4,
   "id": "7a6dd575",
   "metadata": {},
   "outputs": [
    {
     "data": {
      "text/plain": [
       "torch.Size([900, 2])"
      ]
     },
     "execution_count": 4,
     "metadata": {},
     "output_type": "execute_result"
    }
   ],
   "source": [
    "X_train = X[:900,:]\n",
    "X_val = X[800:900,:]\n",
    "X_test = X[900:,:]\n",
    "X_train.shape"
   ]
  },
  {
   "cell_type": "code",
   "execution_count": 5,
   "id": "e24b840f",
   "metadata": {},
   "outputs": [],
   "source": [
    "train_loader = DataLoader(X_train, batch_size = 40, shuffle = True) \n",
    "validate_loader = DataLoader(X_val, batch_size = 20) \n",
    "test_loader = DataLoader(X_test, batch_size = 1)"
   ]
  },
  {
   "cell_type": "code",
   "execution_count": 6,
   "id": "6c6375df",
   "metadata": {},
   "outputs": [],
   "source": [
    "# Define model parameters \n",
    "input_size = list(X_train.shape)[1]   \n",
    "output_size = 20\n",
    "\n",
    "\n",
    "\n",
    "# Define neural network \n",
    "class Network(nn.Module): \n",
    "    def __init__(self, input_size, output_size, init_form=\"normal\"): \n",
    "        super().__init__() \n",
    "        self.conv_stack = nn.Sequential(\n",
    "        nn.Linear(input_size, 500), \n",
    "        nn.Tanh(),\n",
    "        nn.Dropout(p=0.2),\n",
    "        nn.Linear(500, 500),\n",
    "        nn.Tanh(),\n",
    "        nn.Dropout(p=0.2),\n",
    "        nn.Linear(500, 500),\n",
    "        nn.Tanh(),\n",
    "        nn.Dropout(p=0.2),\n",
    "        nn.Linear(500, output_size) )\n",
    "        self.init_form = init_form\n",
    "        if self.init_form is not None:\n",
    "            self.init()\n",
    "\n",
    "    def forward(self, x): \n",
    "        return self.conv_stack(x)\n",
    "    \n",
    "        # xavier weight initialization\n",
    "    def init(self):\n",
    "        sigmoid_gain = torch.nn.init.calculate_gain(\"tanh\")\n",
    "        for child in self.conv_stack.children():\n",
    "            if isinstance(child, nn.Linear):\n",
    "                if self.init_form == \"normal\":\n",
    "                    torch.nn.init.xavier_normal_(child.weight,\n",
    "                                                 gain=sigmoid_gain)\n",
    "                    if child.bias is not None:\n",
    "                        torch.nn.init.zeros_(child.bias)\n",
    "                elif self.init_form == \"uniform\":\n",
    "                    torch.nn.init.xavier_uniform_(child.weight,\n",
    "                                                  gain=sigmoid_gain)\n",
    "                    if child.bias is not None:\n",
    "                        torch.nn.init.zeros_(child.bias)\n",
    "                else:\n",
    "                    raise NotImplementedError()"
   ]
  },
  {
   "cell_type": "code",
   "execution_count": 7,
   "id": "3a4b7c9c",
   "metadata": {},
   "outputs": [],
   "source": [
    "class least_action(nn.Module):\n",
    "    \n",
    "    def __init__(self):\n",
    "        super(least_action, self).__init__()\n",
    "\n",
    "    def forward(self, targets, outputs, func): \n",
    "        tmp = self.action(targets, outputs, func)\n",
    "        loss =  torch.mean(tmp)\n",
    "        \n",
    "        return loss\n",
    "    \n",
    "    def action(self, t, num, func):\n",
    "        dt = 0.2\n",
    "        epsilon = 0\n",
    "        loss1 = 0\n",
    "        loss1 += torch.abs((t[:,0]+num[:,1]-2*num[:,0])/dt/dt + num[:,0])\n",
    "        for i in range(num.shape[1]-2):\n",
    "            loss1 += torch.abs((num[:,i]+num[:,i+2]-2*num[:,i+1])/dt/dt + num[:,i+1])\n",
    "            \n",
    "            \n",
    "            \n",
    "        loss1 += torch.abs((t[:,1]+num[:,-2]-2*num[:,-1])/dt/dt + num[:,-1]) \n",
    "        \n",
    "\n",
    "            \n",
    "        return loss1\n",
    "    \n",
    "    \n",
    "\n"
   ]
  },
  {
   "cell_type": "code",
   "execution_count": 8,
   "id": "e88a6214",
   "metadata": {},
   "outputs": [],
   "source": [
    "def f(x):       \n",
    "          \n",
    "    return 0.5*torch.pow(x,2)\n",
    "\n"
   ]
  },
  {
   "cell_type": "code",
   "execution_count": 9,
   "id": "a13ce371",
   "metadata": {},
   "outputs": [],
   "source": [
    "device = torch.device(\"cuda\" if torch.cuda.is_available() else \"cpu\")\n",
    "\n",
    "def train_epoch(model,\n",
    "                optimizer,\n",
    "                criterion,\n",
    "                train_loader):\n",
    "    loss_history = []\n",
    "    for batch in train_loader: \n",
    "        optimizer.zero_grad()\n",
    "        x_train = batch # parse data\n",
    "        x_train= x_train.to(device) # compute on gpu\n",
    "        y_pred = model(x_train) # get predictions\n",
    "        loss = criterion(x_train, y_pred, f) # compute loss\n",
    "        loss_history.append(loss.cpu().detach().numpy()) # write loss to log\n",
    "        loss.backward()\n",
    "        optimizer.step()\n",
    "    return loss_history"
   ]
  },
  {
   "cell_type": "code",
   "execution_count": 10,
   "id": "a33f3c1b",
   "metadata": {},
   "outputs": [],
   "source": [
    "def validate(model,\n",
    "             criterion,\n",
    "             val_loader):\n",
    "    cumloss = 0\n",
    "    loss_history = []\n",
    "    with torch.no_grad():\n",
    "        for batch in val_loader:\n",
    "            x_train = batch # parse data\n",
    "            x_train = x_train.to(device) # compute on gpu\n",
    "            y_pred = model(x_train) # get predictions\n",
    "            loss = criterion(x_train, y_pred, f) # compute loss\n",
    "            loss_history.append(loss.cpu().detach().numpy()) # write loss to log\n",
    "            cumloss += loss\n",
    "    return cumloss / len(val_loader), loss_history # mean loss and history"
   ]
  },
  {
   "cell_type": "code",
   "execution_count": 11,
   "id": "99a54fc9",
   "metadata": {},
   "outputs": [],
   "source": [
    "from tqdm import tqdm\n",
    "\n",
    "def train_model(model, optimizer, model_name=None, n_epochs=5):\n",
    "  \n",
    "    criterion = least_action().to(device)\n",
    "\n",
    "    train_history = {}\n",
    "    train_history['model_name'] = model_name\n",
    "    train_history['loss_on_train'] = []\n",
    "    train_history['loss_on_test'] = []\n",
    "\n",
    "    for epoch in tqdm(range(n_epochs)):\n",
    "        loss_on_train = train_epoch(model,\n",
    "                                    optimizer,\n",
    "                                    criterion,\n",
    "                                    train_loader)\n",
    "        _, loss_on_test = validate(model,\n",
    "                                   criterion,\n",
    "                                   validate_loader)\n",
    "        train_history['loss_on_train'].append(np.mean(loss_on_train))\n",
    "        train_history['loss_on_test'].append(np.mean(loss_on_test))\n",
    "        scheduler.step()\n",
    "    return train_history"
   ]
  },
  {
   "cell_type": "code",
   "execution_count": 12,
   "id": "17d63b41",
   "metadata": {},
   "outputs": [],
   "source": [
    "def exponential_smoothing(scalars, weight):  \n",
    "    last = scalars[0]  \n",
    "    smoothed = []\n",
    "    for point in scalars:\n",
    "        smoothed_val = last * weight + (1 - weight) * point  \n",
    "        smoothed.append(smoothed_val)                        \n",
    "        last = smoothed_val                                 \n",
    "\n",
    "    return smoothed\n",
    "\n",
    "\n",
    "def plot_history(history, n_epochs=5, smooth_val=0.9):\n",
    "    fig, ax =  plt.subplots(3, 1, figsize=(12, 14))\n",
    "    for stage_idx, (stage_lbl, stage_title) in enumerate(\n",
    "        zip(['loss_on_train', 'loss_on_test'],\n",
    "            ['train loss', 'val loss'])):\n",
    "        # plot history on each learning step\n",
    "        epoch_len = len(history[stage_lbl])//n_epochs\n",
    "        full_stage_len = len(history[stage_lbl])\n",
    "        ax[stage_idx].plot(exponential_smoothing(history[stage_lbl], smooth_val),\n",
    "                           label='smoothed',\n",
    "                           color='m')\n",
    "        ax[stage_idx].plot(history[stage_lbl],\n",
    "                           label='raw',\n",
    "                           alpha=0.2,\n",
    "                           color='c')\n",
    "        ax[stage_idx].set_title(stage_title)\n",
    "        ax[stage_idx].set_xlabel('epochs')\n",
    "        ax[stage_idx].set_ylabel('loss')\n",
    "        epochs_ticks_positions = np.arange(stop=full_stage_len+1,\n",
    "                                           step=epoch_len)\n",
    "        ax[stage_idx].set_xticks(np.arange(0,1000,100))\n",
    "        ax[stage_idx].set_xticklabels(np.arange(0,1000,100))\n",
    "        ax[stage_idx].legend()\n",
    "\n",
    "        # plot mean train and test loss combined\n",
    "        mean_loss_on_epoch = [np.mean(history[stage_lbl][i:i+epoch_len]) \\\n",
    "                              for i in range(0, full_stage_len, epoch_len)]\n",
    "        std_loss_on_epoch = [np.std(history[stage_lbl][i:i+epoch_len]) \\\n",
    "                              for i in range(0, full_stage_len, epoch_len)]\n",
    "\n",
    "        ax[2].set_title('\\nAverage loss per epoch')\n",
    "        ax[2].errorbar(np.arange(n_epochs) + stage_idx / 30.,\n",
    "                       mean_loss_on_epoch,\n",
    "                       yerr=std_loss_on_epoch,\n",
    "                       capsize=5,\n",
    "                       fmt=\"X--\",\n",
    "                       label=stage_title)\n",
    "        ax[2].set_xticks(np.arange(0,1000,100))\n",
    "        ax[2].set_xticklabels(np.arange(0,1000,100))\n",
    "        ax[2].set_xlabel('epochs')\n",
    "        ax[2].set_ylabel('loss')\n",
    "        ax[2].legend()\n",
    "\n",
    "    fig.suptitle(history['model_name'], fontsize=24)\n",
    "    plt.show()"
   ]
  },
  {
   "cell_type": "code",
   "execution_count": 13,
   "id": "4cc26dc2",
   "metadata": {},
   "outputs": [
    {
     "name": "stderr",
     "output_type": "stream",
     "text": [
      "100%|████████████████████████████████████████████████████████████████████████████████| 300/300 [01:27<00:00,  3.41it/s]\n"
     ]
    }
   ],
   "source": [
    "set_random_seed(42)\n",
    "\n",
    "model = Network(input_size,output_size).to(device) \n",
    "optimizer = optim.AdamW(model.parameters(),  betas=(0.9, 0.999), eps=1e-08, weight_decay=0.01,  lr=1e-3)\n",
    "\n",
    "lambda1 = lambda epoch: 0.998 ** epoch\n",
    "scheduler = torch.optim.lr_scheduler.LambdaLR(optimizer, lr_lambda=lambda1, last_epoch = -1)\n",
    "\n",
    "n_epochs = 300\n",
    "history = train_model(model, optimizer, model_name='model', n_epochs=n_epochs)"
   ]
  },
  {
   "cell_type": "code",
   "execution_count": 14,
   "id": "4268fd99",
   "metadata": {},
   "outputs": [
    {
     "data": {
      "image/png": "[encoded data removed]",
      "text/plain": [
       "<Figure size 864x1008 with 3 Axes>"
      ]
     },
     "metadata": {
      "needs_background": "light"
     },
     "output_type": "display_data"
    }
   ],
   "source": [
    "plot_history(history, n_epochs=n_epochs)"
   ]
  },
  {
   "cell_type": "code",
   "execution_count": 15,
   "id": "a7128985",
   "metadata": {},
   "outputs": [
    {
     "data": {
      "text/plain": [
       "Network(\n",
       "  (conv_stack): Sequential(\n",
       "    (0): Linear(in_features=2, out_features=500, bias=True)\n",
       "    (1): Tanh()\n",
       "    (2): Dropout(p=0.2, inplace=False)\n",
       "    (3): Linear(in_features=500, out_features=500, bias=True)\n",
       "    (4): Tanh()\n",
       "    (5): Dropout(p=0.2, inplace=False)\n",
       "    (6): Linear(in_features=500, out_features=500, bias=True)\n",
       "    (7): Tanh()\n",
       "    (8): Dropout(p=0.2, inplace=False)\n",
       "    (9): Linear(in_features=500, out_features=20, bias=True)\n",
       "  )\n",
       ")"
      ]
     },
     "execution_count": 15,
     "metadata": {},
     "output_type": "execute_result"
    }
   ],
   "source": [
    "model.eval()"
   ]
  },
  {
   "cell_type": "code",
   "execution_count": 16,
   "id": "f6d84efa",
   "metadata": {},
   "outputs": [
    {
     "name": "stdout",
     "output_type": "stream",
     "text": [
      "tensor([-0.3514,  1.3779]) tensor([-0.6369, -0.8482, -1.0287, -1.1682, -1.2604, -1.3031, -1.2923, -1.2332,\n",
      "        -1.1246, -0.9719, -0.7772, -0.5563, -0.3046, -0.0437,  0.2199,  0.4741,\n",
      "         0.7116,  0.9205,  1.0939,  1.2239], device='cuda:0',\n",
      "       grad_fn=<AddBackward0>)\n"
     ]
    }
   ],
   "source": [
    "a = X[1,:]\n",
    "print(a, model(a.to(device)))"
   ]
  },
  {
   "cell_type": "code",
   "execution_count": 17,
   "id": "81acda72",
   "metadata": {},
   "outputs": [
    {
     "data": {
      "text/plain": [
       "[<matplotlib.lines.Line2D at 0x15e8c460460>]"
      ]
     },
     "execution_count": 17,
     "metadata": {},
     "output_type": "execute_result"
    },
    {
     "data": {
      "image/png": "[encoded data removed]",
      "text/plain": [
       "<Figure size 432x288 with 1 Axes>"
      ]
     },
     "metadata": {
      "needs_background": "light"
     },
     "output_type": "display_data"
    }
   ],
   "source": [
    "import numpy as np \n",
    "from matplotlib import pyplot as plt \n",
    "\n",
    "plt.plot(np.append(a.numpy()[0],np.append(model(a.to(device)).cpu().detach().numpy(), a.numpy()[1])), marker='o', color='b', label='line with marker')"
   ]
  },
  {
   "cell_type": "code",
   "execution_count": 18,
   "id": "1e7681e6",
   "metadata": {},
   "outputs": [
    {
     "data": {
      "text/plain": [
       "[<matplotlib.lines.Line2D at 0x15ebb2d01f0>]"
      ]
     },
     "execution_count": 18,
     "metadata": {},
     "output_type": "execute_result"
    },
    {
     "data": {
      "image/png": "[encoded data removed]",
      "text/plain": [
       "<Figure size 432x288 with 1 Axes>"
      ]
     },
     "metadata": {
      "needs_background": "light"
     },
     "output_type": "display_data"
    }
   ],
   "source": [
    "b = torch.tensor([-1.5,  1.])\n",
    "plt.plot(np.append(b.numpy()[0],np.append(model(b.to(device)).cpu().detach().numpy(), b.numpy()[1])), marker='o', color='b', label='line with marker')"
   ]
  },
  {
   "cell_type": "code",
   "execution_count": 19,
   "id": "03b1af14",
   "metadata": {},
   "outputs": [],
   "source": [
    "def classic(i,f,dt,t):\n",
    "    return i*np.sin(dt*20-t)/np.sin(20*dt) + f*np.sin(t)/np.sin(20*dt)"
   ]
  },
  {
   "cell_type": "code",
   "execution_count": 20,
   "id": "d2c99774",
   "metadata": {},
   "outputs": [
    {
     "data": {
      "text/plain": [
       "[<matplotlib.lines.Line2D at 0x15ebb32e640>]"
      ]
     },
     "execution_count": 20,
     "metadata": {},
     "output_type": "execute_result"
    },
    {
     "data": {
      "image/png": "[encoded data removed]",
      "text/plain": [
       "<Figure size 432x288 with 1 Axes>"
      ]
     },
     "metadata": {
      "needs_background": "light"
     },
     "output_type": "display_data"
    }
   ],
   "source": [
    "a = []\n",
    "dt = 0.2\n",
    "for i in range(21):\n",
    "    a.append(classic(b[0],b[1],dt,i*dt))\n",
    "plt.plot(a)"
   ]
  },
  {
   "cell_type": "markdown",
   "id": "2dfe8d2b",
   "metadata": {},
   "source": [
    "## Try to make many random paths"
   ]
  },
  {
   "cell_type": "code",
   "execution_count": 21,
   "id": "b35ac850",
   "metadata": {},
   "outputs": [],
   "source": [
    "# Network hyperparameters\n",
    "latent_size = 128\n",
    "Nin = list(X_train.shape)[1] +  latent_size   # Inputs to the neural network\n",
    "Nout = 20  # Outputs of the neural network\n",
    "Nhid = 100  # Nodes in the hidden layer\n",
    "\n",
    "W1 = torch.randn(Nhid, Nin, requires_grad=True)  # First set of coefficients\n",
    "B = torch.rand(Nhid, requires_grad=True) * 2. - 1.    # Set of bias parameters\n",
    "W2 = torch.randn(Nout, Nhid, requires_grad=True)        # Second set of coefficients\n",
    "\n",
    "# Define neural network \n",
    "class Network2(nn.Module): \n",
    "    def __init__(self, input_size, output_size, init_form=\"normal\"): \n",
    "        super().__init__() \n",
    "        # We set the operators \n",
    "        self.lc1 = nn.Linear(in_features=Nin, \n",
    "                             out_features=Nhid, \n",
    "                             bias=True)   # shape = (Nhid, Nin)\n",
    "        self.actfun = nn.Sigmoid()        # activation function\n",
    "        self.lc2 = nn.Linear(in_features=Nhid, \n",
    "                             out_features=Nout, \n",
    "                             bias=False)  # shape = (Nout, Nhid)\n",
    "        \n",
    "        # We set the parameters \n",
    "        with torch.no_grad():\n",
    "            self.lc1.weight = nn.Parameter(W1)\n",
    "            self.lc1.bias = nn.Parameter(B)\n",
    "            self.lc2.weight = nn.Parameter(W2)\n",
    "   \n",
    "    # We set the architecture\n",
    "    def forward(self, x): \n",
    "        o = self.lc2(self.actfun(self.lc1(x)))\n",
    "        return o"
   ]
  },
  {
   "cell_type": "code",
   "execution_count": 22,
   "id": "a9c66023",
   "metadata": {},
   "outputs": [],
   "source": [
    "class least_action2(nn.Module):\n",
    "    \n",
    "    def __init__(self):\n",
    "        super(least_action2, self).__init__()\n",
    "\n",
    "    def forward(self, targets, outputs, func): \n",
    "        tmp = self.action(targets, outputs, func)\n",
    "        loss =  torch.mean(tmp)\n",
    "        \n",
    "        return loss\n",
    "    \n",
    "    def action(self, t, num, func):\n",
    "        dt = 0.2\n",
    "        epsilon = 0\n",
    "        loss1 = 0\n",
    "        loss1 += torch.abs((t[:,0]+num[:,1]-2*num[:,0])/dt/dt + num[:,0])\n",
    "        for i in range(num.shape[1]-2):\n",
    "            loss1 += torch.abs((num[:,i]+num[:,i+2]-2*num[:,i+1])/dt/dt + num[:,i+1])\n",
    "            \n",
    "            \n",
    "            \n",
    "        loss1 += torch.abs((t[:,1]+num[:,-2]-2*num[:,-1])/dt/dt + num[:,-1]) \n",
    "        \n",
    "\n",
    "            \n",
    "        return loss1\n",
    "    "
   ]
  },
  {
   "cell_type": "code",
   "execution_count": 23,
   "id": "9f80ecc0",
   "metadata": {},
   "outputs": [],
   "source": [
    "from tqdm import tqdm\n",
    "\n",
    "def train_epoch(model,\n",
    "                optimizer,\n",
    "                criterion,\n",
    "                train_loader):\n",
    "    loss_history = []\n",
    "    for batch in train_loader: \n",
    "        optimizer.zero_grad()\n",
    "        x_train = batch # parse data\n",
    "        x_train2 = torch.randn((x_train.shape[0],latent_size))\n",
    "        x_train = torch.cat((x_train,x_train2),1)\n",
    "        x_train= x_train.to(device) # compute on gpu\n",
    "        y_pred = model(x_train) # get predictions\n",
    "        loss = criterion(x_train, y_pred, f) # compute loss\n",
    "        loss_history.append(loss.cpu().detach().numpy()) # write loss to log\n",
    "        loss.backward()\n",
    "        optimizer.step()\n",
    "    return loss_history"
   ]
  },
  {
   "cell_type": "code",
   "execution_count": 24,
   "id": "0cb1b127",
   "metadata": {},
   "outputs": [],
   "source": [
    "def validate(model,\n",
    "             criterion,\n",
    "             val_loader):\n",
    "    cumloss = 0\n",
    "    loss_history = []\n",
    "    with torch.no_grad():\n",
    "        for batch in val_loader:\n",
    "            x_train = batch # parse data\n",
    "            x_train2 = torch.randn((x_train.shape[0],latent_size))\n",
    "            x_train = torch.cat((x_train,x_train2),1)\n",
    "            x_train = x_train.to(device) # compute on gpu\n",
    "            y_pred = model(x_train) # get predictions\n",
    "            loss = criterion(x_train, y_pred, f) # compute loss\n",
    "            loss_history.append(loss.cpu().detach().numpy()) # write loss to log\n",
    "            cumloss += loss\n",
    "    return cumloss / len(val_loader), loss_history # mean loss and history"
   ]
  },
  {
   "cell_type": "code",
   "execution_count": 25,
   "id": "5ff2e205",
   "metadata": {},
   "outputs": [],
   "source": [
    "def train_model(model, optimizer, model_name=None, n_epochs=5):\n",
    "  \n",
    "    criterion = least_action2().to(device)\n",
    "\n",
    "    train_history = {}\n",
    "    train_history['model_name'] = model_name\n",
    "    train_history['loss_on_train'] = []\n",
    "    train_history['loss_on_test'] = []\n",
    "\n",
    "    for epoch in tqdm(range(n_epochs)):\n",
    "        loss_on_train = train_epoch(model,\n",
    "                                    optimizer,\n",
    "                                    criterion,\n",
    "                                    train_loader)\n",
    "        _, loss_on_test = validate(model,\n",
    "                                   criterion,\n",
    "                                   validate_loader)\n",
    "        train_history['loss_on_train'].append(np.mean(loss_on_train))\n",
    "        train_history['loss_on_test'].append(np.mean(loss_on_test))\n",
    "        scheduler.step()\n",
    "    return train_history"
   ]
  },
  {
   "cell_type": "code",
   "execution_count": 26,
   "id": "664f648a",
   "metadata": {},
   "outputs": [
    {
     "name": "stderr",
     "output_type": "stream",
     "text": [
      "100%|████████████████████████████████████████████████████████████████████████████████████| 5/5 [00:01<00:00,  4.00it/s]\n"
     ]
    }
   ],
   "source": [
    "set_random_seed(0)\n",
    "# seed=0\n",
    "model2 = Network2(input_size,output_size).to(device) \n",
    "optimizer = optim.AdamW(model2.parameters(), lr=0.001)\n",
    "\n",
    "lambda1 = lambda epoch: 0.998 ** epoch\n",
    "scheduler = torch.optim.lr_scheduler.LambdaLR(optimizer, lr_lambda=lambda1, last_epoch = -1)\n",
    "\n",
    "n_epochs = 5\n",
    "\n",
    "history = train_model(model2, optimizer, model_name='model', n_epochs=n_epochs)"
   ]
  },
  {
   "cell_type": "code",
   "execution_count": 27,
   "id": "0c9b784f",
   "metadata": {},
   "outputs": [
    {
     "data": {
      "image/png": "[encoded data removed]",
      "text/plain": [
       "<Figure size 864x1008 with 3 Axes>"
      ]
     },
     "metadata": {
      "needs_background": "light"
     },
     "output_type": "display_data"
    }
   ],
   "source": [
    "plot_history(history, n_epochs=n_epochs)"
   ]
  },
  {
   "cell_type": "code",
   "execution_count": 28,
   "id": "f1e92d1c",
   "metadata": {},
   "outputs": [
    {
     "data": {
      "text/plain": [
       "Network2(\n",
       "  (lc1): Linear(in_features=130, out_features=100, bias=True)\n",
       "  (actfun): Sigmoid()\n",
       "  (lc2): Linear(in_features=100, out_features=20, bias=False)\n",
       ")"
      ]
     },
     "execution_count": 28,
     "metadata": {},
     "output_type": "execute_result"
    }
   ],
   "source": [
    "model2.eval()"
   ]
  },
  {
   "cell_type": "code",
   "execution_count": 29,
   "id": "f5c85f2b",
   "metadata": {},
   "outputs": [
    {
     "data": {
      "text/plain": [
       "[<matplotlib.lines.Line2D at 0x15ec8d5b4c0>]"
      ]
     },
     "execution_count": 29,
     "metadata": {},
     "output_type": "execute_result"
    },
    {
     "data": {
      "image/png": "[encoded data removed]",
      "text/plain": [
       "<Figure size 432x288 with 1 Axes>"
      ]
     },
     "metadata": {
      "needs_background": "light"
     },
     "output_type": "display_data"
    }
   ],
   "source": [
    "a = X[100,:]\n",
    "a = torch.cat((a,torch.randn(128,1).reshape(-1)),0)\n",
    "plt.plot(np.append(a.numpy()[0],np.append(model2(a.to(device)).cpu().detach().numpy(), a.numpy()[1])), marker='o', color='b', label='line with marker')"
   ]
  },
  {
   "cell_type": "code",
   "execution_count": 30,
   "id": "5b429d80",
   "metadata": {},
   "outputs": [
    {
     "data": {
      "text/plain": [
       "[<matplotlib.lines.Line2D at 0x15eca20edc0>]"
      ]
     },
     "execution_count": 30,
     "metadata": {},
     "output_type": "execute_result"
    },
    {
     "data": {
      "image/png": "[encoded data removed]",
      "text/plain": [
       "<Figure size 432x288 with 1 Axes>"
      ]
     },
     "metadata": {
      "needs_background": "light"
     },
     "output_type": "display_data"
    }
   ],
   "source": [
    "a1 = []\n",
    "dt = 0.2\n",
    "for i in range(21):\n",
    "    a1.append(classic(a[0],a[1],dt,i*dt))\n",
    "plt.plot(a1)"
   ]
  },
  {
   "cell_type": "code",
   "execution_count": 31,
   "id": "50c8d5e4",
   "metadata": {},
   "outputs": [],
   "source": [
    "def actionE(t, num, func):\n",
    "    dt = 0.2\n",
    "    loss1 = 0\n",
    "    loss1 += 0.5*(t[0]-num[0])*(t[0]-num[0])/dt + func(t[0])*0.5*dt\n",
    "    for i in range(num.shape[0]-1):\n",
    "        loss1 += 0.5*(num[i]-num[i+1])*(num[i]-num[i+1])/dt + func(num[i])*dt\n",
    "            \n",
    "    loss1 += 0.5*(t[1]-num[-1])*(t[1]-num[-1])/dt + func(num[-1])*dt + func(t[1])*dt*0.5\n",
    "    return loss1"
   ]
  },
  {
   "cell_type": "code",
   "execution_count": 32,
   "id": "1bfa0e65",
   "metadata": {},
   "outputs": [
    {
     "data": {
      "text/plain": [
       "tensor(2392.7607)"
      ]
     },
     "execution_count": 32,
     "metadata": {},
     "output_type": "execute_result"
    }
   ],
   "source": [
    "a = X[10,:]\n",
    "a2 = torch.cat((a,torch.randn(128,1).reshape(-1)),0)\n",
    "actionE(a,model2(a2.to(device)).cpu().detach(),f)"
   ]
  },
  {
   "cell_type": "code",
   "execution_count": 33,
   "id": "3d8d7b9b",
   "metadata": {},
   "outputs": [],
   "source": [
    "A = 0\n",
    "for i in range(1000):\n",
    "    a = X[8,:]\n",
    "    a2 = torch.cat((a,torch.randn(128,1).reshape(-1)),0)\n",
    "    S = actionE(a,model2(a2.to(device)).cpu().detach(),f)\n",
    "    A += np.exp(-S)"
   ]
  },
  {
   "cell_type": "code",
   "execution_count": 34,
   "id": "222130ea",
   "metadata": {},
   "outputs": [
    {
     "data": {
      "text/plain": [
       "tensor(0.)"
      ]
     },
     "execution_count": 34,
     "metadata": {},
     "output_type": "execute_result"
    }
   ],
   "source": [
    "np.absolute(A)"
   ]
  },
  {
   "cell_type": "code",
   "execution_count": 35,
   "id": "cf2a8c90",
   "metadata": {},
   "outputs": [
    {
     "data": {
      "text/plain": [
       "tensor(4.0446)"
      ]
     },
     "execution_count": 35,
     "metadata": {},
     "output_type": "execute_result"
    }
   ],
   "source": [
    "actionE(a,model(a.to(device)).cpu().detach(),f)"
   ]
  },
  {
   "cell_type": "code",
   "execution_count": 36,
   "id": "4ef4b016",
   "metadata": {},
   "outputs": [
    {
     "data": {
      "text/plain": [
       "tensor(0.2800)"
      ]
     },
     "execution_count": 36,
     "metadata": {},
     "output_type": "execute_result"
    }
   ],
   "source": [
    "np.sqrt((1/3.14/np.sinh(4.2))*(np.cosh(4.2)-1))*np.exp(-1/2*((a[0]**2+a[1]**2)*np.cosh(4.2)-2*a[0]*a[1])/np.sinh(4.2))"
   ]
  },
  {
   "cell_type": "code",
   "execution_count": 37,
   "id": "31b2bbaf",
   "metadata": {},
   "outputs": [],
   "source": [
    "h_bar = 1 #constant of nature, set to 1 for convenience \n",
    "\n",
    "def V(q,m=1,omega=1):\n",
    "    return 0.5 * m * (omega**2) * (q**2)\n",
    "\n",
    "def dV(q,m=1,omega=1):\n",
    "    return m * (omega**2) * q\n",
    "\n",
    "def Phi(q,m=1,omega=1):\n",
    "    N = np.size(q)\n",
    "    term = V(q,m,omega) + (0.5 * q * dV(q,m,omega))\n",
    "    return np.sum(term)/N\n",
    "\n",
    "def U(q,beta=1,m=1,omega=1):\n",
    "    N = np.size(q)\n",
    "    term = np.zeros(N)\n",
    "\n",
    "    for i in range(N-1):\n",
    "        term[i] = (m*(q[i+1]-q[i])**2)/(2*(beta/N)*(h_bar**2)) + (beta/N)*V(q[i])  \n",
    "\n",
    "    term[N-1] = (m*(q[0]-q[N-1])**2)/(2*(beta/N)*(h_bar**2)) + (beta/N)*V(q[i])\n",
    "\n",
    "    return np.sum(term)\n",
    "\n",
    "def prob(U):\n",
    "    return np.exp(-U)\n",
    "\n",
    "def exact_H(beta,omega=1):\n",
    "    return (h_bar * omega) * (0.5 + (np.exp(beta*h_bar*omega)-1)**-1)"
   ]
  },
  {
   "cell_type": "code",
   "execution_count": 38,
   "id": "70390105",
   "metadata": {},
   "outputs": [
    {
     "name": "stderr",
     "output_type": "stream",
     "text": [
      "C:\\Users\\user\\AppData\\Local\\Temp\\ipykernel_17052\\3208302216.py:22: RuntimeWarning: invalid value encountered in double_scalars\n",
      "  np.sum(H_avg)/np.sum(Z)\n"
     ]
    },
    {
     "data": {
      "text/plain": [
       "nan"
      ]
     },
     "execution_count": 38,
     "metadata": {},
     "output_type": "execute_result"
    }
   ],
   "source": [
    "num_steps = 1000\n",
    "m = 1\n",
    "omega = 1\n",
    "H_avg = np.zeros(num_steps)\n",
    "Z = np.zeros(num_steps)\n",
    "a = X[0,:]\n",
    "a2 = torch.cat((a,torch.randn(128,1).reshape(-1)),0)\n",
    "q = model2(a2.to(device)).cpu().detach().numpy()\n",
    "H_avg[0] = Phi(q,m=1,omega=1)*prob(U(q))\n",
    "Z[0] = prob(U(q))\n",
    "qq = np.array([])\n",
    "\n",
    "for i in range(num_steps-1):\n",
    "    a = torch.tensor([0.,0.])\n",
    "    a2 = torch.cat((a,torch.randn(128,1).reshape(-1)),0)\n",
    "    q = model2(a2.to(device)).cpu().detach().numpy()\n",
    "    H_avg[i+1] = Phi(q,m=1,omega=1)*prob(U(q))\n",
    "    Z[i+1] = prob(U(q))\n",
    "    qq = np.append(qq,q)\n",
    "\n",
    "\n",
    "np.sum(H_avg)/np.sum(Z)"
   ]
  },
  {
   "cell_type": "code",
   "execution_count": 39,
   "id": "22fbf2cb",
   "metadata": {},
   "outputs": [
    {
     "data": {
      "image/png": "[encoded data removed]",
      "text/plain": [
       "<Figure size 432x288 with 1 Axes>"
      ]
     },
     "metadata": {
      "needs_background": "light"
     },
     "output_type": "display_data"
    }
   ],
   "source": [
    "_ = plt.hist(qq, bins=100)\n",
    "plt.show()"
   ]
  },
  {
   "cell_type": "code",
   "execution_count": 40,
   "id": "c67e533f",
   "metadata": {},
   "outputs": [
    {
     "data": {
      "text/plain": [
       "27.68226559153575"
      ]
     },
     "execution_count": 40,
     "metadata": {},
     "output_type": "execute_result"
    }
   ],
   "source": [
    "np.sum(qq**2)/qq.shape[0]"
   ]
  },
  {
   "cell_type": "code",
   "execution_count": null,
   "id": "ec3f2387",
   "metadata": {},
   "outputs": [],
   "source": []
  }
 ],
 "metadata": {
  "kernelspec": {
   "display_name": "Python 3 (ipykernel)",
   "language": "python",
   "name": "python3"
  },
  "language_info": {
   "codemirror_mode": {
    "name": "ipython",
    "version": 3
   },
   "file_extension": ".py",
   "mimetype": "text/x-python",
   "name": "python",
   "nbconvert_exporter": "python",
   "pygments_lexer": "ipython3",
   "version": "3.9.16"
  }
 },
 "nbformat": 4,
 "nbformat_minor": 5
}
